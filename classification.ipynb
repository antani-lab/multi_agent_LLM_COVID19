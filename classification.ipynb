{
 "cells": [
  {
   "cell_type": "markdown",
   "id": "51332beb-6e7c-4abc-97be-181ddf4ddc5e",
   "metadata": {},
   "source": [
    "Fine-tuning Transformers from Hugging Face using Trainer"
   ]
  },
  {
   "cell_type": "code",
   "execution_count": 1,
   "id": "3874b15a-4f7b-4301-a7b1-d56388888b9b",
   "metadata": {
    "tags": []
   },
   "outputs": [],
   "source": [
    "! pip -q install transformers\n",
    "! pip -q install datasets"
   ]
  },
  {
   "cell_type": "code",
   "execution_count": null,
   "id": "972f7ef2",
   "metadata": {},
   "outputs": [
    {
     "name": "stdout",
     "output_type": "stream",
     "text": [
      "Requirement already satisfied: datasets in /opt/conda/lib/python3.11/site-packages (2.2.1)\n",
      "Collecting datasets\n",
      "  Using cached datasets-3.6.0-py3-none-any.whl.metadata (19 kB)\n",
      "Requirement already satisfied: huggingface_hub in /opt/conda/lib/python3.11/site-packages (0.30.2)\n",
      "Collecting huggingface_hub\n",
      "  Downloading huggingface_hub-0.32.4-py3-none-any.whl.metadata (14 kB)\n",
      "Requirement already satisfied: fsspec in /opt/conda/lib/python3.11/site-packages (2024.10.0)\n",
      "Collecting fsspec\n",
      "  Downloading fsspec-2025.5.1-py3-none-any.whl.metadata (11 kB)\n",
      "Requirement already satisfied: filelock in /opt/conda/lib/python3.11/site-packages (from datasets) (3.18.0)\n",
      "Requirement already satisfied: numpy>=1.17 in /opt/conda/lib/python3.11/site-packages (from datasets) (1.26.4)\n",
      "Requirement already satisfied: pyarrow>=15.0.0 in /opt/conda/lib/python3.11/site-packages (from datasets) (17.0.0)\n",
      "Collecting dill<0.3.9,>=0.3.0 (from datasets)\n",
      "  Using cached dill-0.3.8-py3-none-any.whl.metadata (10 kB)\n",
      "Requirement already satisfied: pandas in /opt/conda/lib/python3.11/site-packages (from datasets) (2.2.3)\n",
      "Requirement already satisfied: requests>=2.32.2 in /opt/conda/lib/python3.11/site-packages (from datasets) (2.32.3)\n",
      "Requirement already satisfied: tqdm>=4.66.3 in /opt/conda/lib/python3.11/site-packages (from datasets) (4.67.1)\n",
      "Requirement already satisfied: xxhash in /opt/conda/lib/python3.11/site-packages (from datasets) (3.5.0)\n",
      "Collecting multiprocess<0.70.17 (from datasets)\n",
      "  Using cached multiprocess-0.70.16-py311-none-any.whl.metadata (7.2 kB)\n",
      "Collecting fsspec\n",
      "  Using cached fsspec-2025.3.0-py3-none-any.whl.metadata (11 kB)\n",
      "Requirement already satisfied: packaging in /opt/conda/lib/python3.11/site-packages (from datasets) (24.2)\n",
      "Requirement already satisfied: pyyaml>=5.1 in /opt/conda/lib/python3.11/site-packages (from datasets) (6.0.2)\n",
      "Requirement already satisfied: typing-extensions>=3.7.4.3 in /opt/conda/lib/python3.11/site-packages (from huggingface_hub) (4.13.2)\n",
      "Collecting hf-xet<2.0.0,>=1.1.2 (from huggingface_hub)\n",
      "  Downloading hf_xet-1.1.3-cp37-abi3-manylinux_2_17_x86_64.manylinux2014_x86_64.whl.metadata (879 bytes)\n",
      "Requirement already satisfied: aiohttp!=4.0.0a0,!=4.0.0a1 in /opt/conda/lib/python3.11/site-packages (from fsspec[http]<=2025.3.0,>=2023.1.0->datasets) (3.9.5)\n",
      "Requirement already satisfied: charset_normalizer<4,>=2 in /opt/conda/lib/python3.11/site-packages (from requests>=2.32.2->datasets) (3.4.1)\n",
      "Requirement already satisfied: idna<4,>=2.5 in /opt/conda/lib/python3.11/site-packages (from requests>=2.32.2->datasets) (3.10)\n",
      "Requirement already satisfied: urllib3<3,>=1.21.1 in /opt/conda/lib/python3.11/site-packages (from requests>=2.32.2->datasets) (2.4.0)\n",
      "Requirement already satisfied: certifi>=2017.4.17 in /opt/conda/lib/python3.11/site-packages (from requests>=2.32.2->datasets) (2025.1.31)\n",
      "Requirement already satisfied: python-dateutil>=2.8.2 in /opt/conda/lib/python3.11/site-packages (from pandas->datasets) (2.9.0.post0)\n",
      "Requirement already satisfied: pytz>=2020.1 in /opt/conda/lib/python3.11/site-packages (from pandas->datasets) (2024.2)\n",
      "Requirement already satisfied: tzdata>=2022.7 in /opt/conda/lib/python3.11/site-packages (from pandas->datasets) (2025.2)\n",
      "Requirement already satisfied: aiosignal>=1.1.2 in /opt/conda/lib/python3.11/site-packages (from aiohttp!=4.0.0a0,!=4.0.0a1->fsspec[http]<=2025.3.0,>=2023.1.0->datasets) (1.3.2)\n",
      "Requirement already satisfied: attrs>=17.3.0 in /opt/conda/lib/python3.11/site-packages (from aiohttp!=4.0.0a0,!=4.0.0a1->fsspec[http]<=2025.3.0,>=2023.1.0->datasets) (23.2.0)\n",
      "Requirement already satisfied: frozenlist>=1.1.1 in /opt/conda/lib/python3.11/site-packages (from aiohttp!=4.0.0a0,!=4.0.0a1->fsspec[http]<=2025.3.0,>=2023.1.0->datasets) (1.5.0)\n",
      "Requirement already satisfied: multidict<7.0,>=4.5 in /opt/conda/lib/python3.11/site-packages (from aiohttp!=4.0.0a0,!=4.0.0a1->fsspec[http]<=2025.3.0,>=2023.1.0->datasets) (6.4.3)\n",
      "Requirement already satisfied: yarl<2.0,>=1.0 in /opt/conda/lib/python3.11/site-packages (from aiohttp!=4.0.0a0,!=4.0.0a1->fsspec[http]<=2025.3.0,>=2023.1.0->datasets) (1.20.0)\n",
      "Requirement already satisfied: six>=1.5 in /opt/conda/lib/python3.11/site-packages (from python-dateutil>=2.8.2->pandas->datasets) (1.17.0)\n",
      "Requirement already satisfied: propcache>=0.2.1 in /opt/conda/lib/python3.11/site-packages (from yarl<2.0,>=1.0->aiohttp!=4.0.0a0,!=4.0.0a1->fsspec[http]<=2025.3.0,>=2023.1.0->datasets) (0.3.1)\n",
      "Using cached datasets-3.6.0-py3-none-any.whl (491 kB)\n",
      "Downloading huggingface_hub-0.32.4-py3-none-any.whl (512 kB)\n",
      "Using cached fsspec-2025.3.0-py3-none-any.whl (193 kB)\n",
      "Using cached dill-0.3.8-py3-none-any.whl (116 kB)\n",
      "Downloading hf_xet-1.1.3-cp37-abi3-manylinux_2_17_x86_64.manylinux2014_x86_64.whl (4.8 MB)\n",
      "\u001b[2K   \u001b[90m━━━━━━━━━━━━━━━━━━━━━━━━━━━━━━━━━━━━━━━━\u001b[0m \u001b[32m4.8/4.8 MB\u001b[0m \u001b[31m118.6 MB/s\u001b[0m eta \u001b[36m0:00:00\u001b[0m\n",
      "\u001b[?25hUsing cached multiprocess-0.70.16-py311-none-any.whl (143 kB)\n",
      "Installing collected packages: hf-xet, fsspec, dill, multiprocess, huggingface_hub, datasets\n",
      "  Attempting uninstall: fsspec\n",
      "    Found existing installation: fsspec 2024.10.0\n",
      "    Uninstalling fsspec-2024.10.0:\n",
      "      Successfully uninstalled fsspec-2024.10.0\n",
      "  Attempting uninstall: dill\n",
      "    Found existing installation: dill 0.4.0\n",
      "    Uninstalling dill-0.4.0:\n",
      "      Successfully uninstalled dill-0.4.0\n",
      "  Attempting uninstall: multiprocess\n",
      "    Found existing installation: multiprocess 0.70.18\n",
      "    Uninstalling multiprocess-0.70.18:\n",
      "      Successfully uninstalled multiprocess-0.70.18\n",
      "  Attempting uninstall: huggingface_hub\n",
      "    Found existing installation: huggingface_hub 0.30.2\n",
      "    Uninstalling huggingface_hub-0.30.2:\n",
      "      Successfully uninstalled huggingface_hub-0.30.2\n",
      "  Attempting uninstall: datasets\n",
      "    Found existing installation: datasets 2.2.1\n",
      "    Uninstalling datasets-2.2.1:\n",
      "      Successfully uninstalled datasets-2.2.1\n",
      "\u001b[31mERROR: pip's dependency resolver does not currently take into account all the packages that are installed. This behaviour is the source of the following dependency conflicts.\n",
      "autogluon-multimodal 1.2 requires nvidia-ml-py3==7.352.0, which is not installed.\n",
      "jupyter-ai 2.29.1 requires faiss-cpu!=1.8.0.post0,<2.0.0,>=1.8.0, which is not installed.\n",
      "autogluon-multimodal 1.2 requires jsonschema<4.22,>=4.18, but you have jsonschema 4.23.0 which is incompatible.\n",
      "autogluon-multimodal 1.2 requires nltk<3.9,>=3.4.5, but you have nltk 3.9.1 which is incompatible.\n",
      "autogluon-multimodal 1.2 requires omegaconf<2.3.0,>=2.1.1, but you have omegaconf 2.3.0 which is incompatible.\n",
      "autogluon-multimodal 1.2 requires transformers[sentencepiece]<4.50,>=4.38.0, but you have transformers 4.51.3 which is incompatible.\n",
      "autogluon-timeseries 1.2 requires coreforecast==0.0.12, but you have coreforecast 0.0.16 which is incompatible.\n",
      "autogluon-timeseries 1.2 requires mlforecast==0.13.4, but you have mlforecast 0.13.6 which is incompatible.\n",
      "autogluon-timeseries 1.2 requires transformers[sentencepiece]<4.50,>=4.38.0, but you have transformers 4.51.3 which is incompatible.\n",
      "jupyter-scheduler 2.10.0 requires fsspec<=2024.10.0,>=2023.6.0, but you have fsspec 2025.3.0 which is incompatible.\n",
      "pathos 0.3.4 requires dill>=0.4.0, but you have dill 0.3.8 which is incompatible.\n",
      "pathos 0.3.4 requires multiprocess>=0.70.18, but you have multiprocess 0.70.16 which is incompatible.\n",
      "s3fs 2024.10.0 requires fsspec==2024.10.0.*, but you have fsspec 2025.3.0 which is incompatible.\u001b[0m\u001b[31m\n",
      "\u001b[0mSuccessfully installed datasets-3.6.0 dill-0.3.8 fsspec-2025.3.0 hf-xet-1.1.3 huggingface_hub-0.32.4 multiprocess-0.70.16\n"
     ]
    }
   ],
   "source": [
    "# Install the latest versions of datasets, huggingface_hub, and fsspec\n",
    "# to ensure compatibility with the latest features and bug fixes.\n",
    "! pip install -U datasets huggingface_hub fsspec"
   ]
  },
  {
   "cell_type": "code",
   "execution_count": null,
   "id": "89bba0dc-ba5a-4a16-93a0-9f2c5b5629d3",
   "metadata": {
    "tags": []
   },
   "outputs": [
    {
     "name": "stderr",
     "output_type": "stream",
     "text": [
      "2025-06-09 17:16:34.010734: E external/local_xla/xla/stream_executor/cuda/cuda_fft.cc:485] Unable to register cuFFT factory: Attempting to register factory for plugin cuFFT when one has already been registered\n",
      "2025-06-09 17:16:34.026761: E external/local_xla/xla/stream_executor/cuda/cuda_dnn.cc:8454] Unable to register cuDNN factory: Attempting to register factory for plugin cuDNN when one has already been registered\n",
      "2025-06-09 17:16:34.031899: E external/local_xla/xla/stream_executor/cuda/cuda_blas.cc:1452] Unable to register cuBLAS factory: Attempting to register factory for plugin cuBLAS when one has already been registered\n",
      "2025-06-09 17:16:34.044268: I tensorflow/core/platform/cpu_feature_guard.cc:210] This TensorFlow binary is optimized to use available CPU instructions in performance-critical operations.\n",
      "To enable the following instructions: SSE4.1 SSE4.2 AVX AVX2 FMA, in other operations, rebuild TensorFlow with the appropriate compiler flags.\n"
     ]
    }
   ],
   "source": [
    "import os\n",
    "from datasets import load_dataset, DatasetDict\n",
    "from transformers import MobileViTFeatureExtractor\n",
    "import shutil\n",
    "import torch\n",
    "from sklearn.metrics import f1_score, accuracy_score, precision_score, recall_score, roc_auc_score, roc_curve\n",
    "import numpy as np\n",
    "import matplotlib.pyplot as plt\n",
    "from torch.utils.data import WeightedRandomSampler\n",
    "import seaborn as sns"
   ]
  },
  {
   "cell_type": "code",
   "execution_count": null,
   "id": "606c02dc-94b4-4cae-b8c4-eb932a9dcae9",
   "metadata": {
    "tags": []
   },
   "outputs": [],
   "source": [
    "# search and delete all the .ipynb_checkpoints folders\n",
    "base_folder = \"your_base_folder_path\"  # Replace with your base folder path\n",
    "\n",
    "# Walk through the directory\n",
    "for root, dirs, _ in os.walk(base_folder):\n",
    "    for dir_name in dirs:\n",
    "        if dir_name == \".ipynb_checkpoints\":\n",
    "            folder_path = os.path.join(root, dir_name)\n",
    "            try:\n",
    "                shutil.rmtree(folder_path)  # Delete the folder\n",
    "                print(f\"Deleted folder: {folder_path}\")\n",
    "            except Exception as e:\n",
    "                print(f\"Error deleting folder {folder_path}: {e}\")"
   ]
  },
  {
   "cell_type": "code",
   "execution_count": 3,
   "id": "a5ff380f-eb55-425f-afa3-7a3c5dee8778",
   "metadata": {
    "tags": []
   },
   "outputs": [],
   "source": [
    "def get_png_files(img_dir):\n",
    "    png_files = []\n",
    "    for subdir, _, files in os.walk(img_dir):\n",
    "        for file in files:\n",
    "            if file.endswith('.png'):\n",
    "                # Get the absolute path and add it to the list\n",
    "                png_files.append(os.path.abspath(os.path.join(subdir, file)))\n",
    "    return png_files"
   ]
  },
  {
   "cell_type": "code",
   "execution_count": null,
   "id": "eb3a7d0e-7fe4-42a7-b17c-a6d39e70e86d",
   "metadata": {
    "tags": []
   },
   "outputs": [
    {
     "name": "stdout",
     "output_type": "stream",
     "text": [
      "positive: 151\n",
      "negative: 542\n"
     ]
    }
   ],
   "source": [
    "pos = \"your_negative_images_path\"  # Replace with your negative images path\n",
    "neg = \"your_positive_images_path\"  # Replace with your positive images path\n",
    "pos_files = get_png_files(pos)\n",
    "neg_files = get_png_files(neg)\n",
    "\n",
    "print(f\"positive: {len(pos_files)}\")\n",
    "print(f\"negative: {len(neg_files)}\")"
   ]
  },
  {
   "cell_type": "code",
   "execution_count": null,
   "id": "1da73d03-edd1-4a1d-89b4-5b40ce1fdd7a",
   "metadata": {
    "tags": []
   },
   "outputs": [
    {
     "name": "stdout",
     "output_type": "stream",
     "text": [
      "positive train images: 151\n",
      "negative train images: 542\n",
      "positive val images: 39\n",
      "negative val images: 137\n"
     ]
    }
   ],
   "source": [
    "neg_folder = \"your_negative_train_images_path\"  # Replace with your negative train images path\n",
    "pos_folder = \"your_positive_train_images_path\"  # Replace with your positive train images path\n",
    "neg_val_folder = \"your_negative_val_images_path\"  # Replace with your negative validation images path\n",
    "pos_val_folder = \"your_positive_val_images_path\"  # Replace with your positive validation images path\n",
    "\n",
    "neg_files = get_png_files(neg_folder)\n",
    "pos_files = get_png_files(pos_folder)\n",
    "neg_val_files = get_png_files(neg_val_folder)\n",
    "pos_val_files = get_png_files(pos_val_folder)\n",
    "print(f\"positive train images: {len(neg_files)}\")\n",
    "print(f\"negative train images: {len(pos_files)}\")\n",
    "print(f\"positive val images: {len(neg_val_files)}\")\n",
    "print(f\"negative val images: {len(pos_val_files)}\")"
   ]
  },
  {
   "cell_type": "code",
   "execution_count": 10,
   "id": "4419f5fd-72a4-4636-b6c3-79eee0972601",
   "metadata": {
    "tags": []
   },
   "outputs": [],
   "source": [
    "# helper function for weighted random sampler\n",
    "\n",
    "def get_class_weights(dataset):\n",
    "    class_counts = {}\n",
    "    for example in dataset:\n",
    "        label = example['label']\n",
    "        if label in class_counts:\n",
    "            class_counts[label] += 1\n",
    "        else:\n",
    "            class_counts[label] = 1\n",
    "    total_count = sum(class_counts.values())\n",
    "    class_weights = {label: total_count / count for label, count in class_counts.items()}\n",
    "    return class_weights\n",
    "\n",
    "\n",
    "def get_sample_weights(dataset, class_weights):\n",
    "    sample_weights = [class_weights[example['label']] for example in dataset]\n",
    "    return sample_weights"
   ]
  },
  {
   "cell_type": "code",
   "execution_count": null,
   "id": "750ddb2d-09b2-4c91-980c-c8770cada2b1",
   "metadata": {
    "tags": []
   },
   "outputs": [
    {
     "data": {
      "application/vnd.jupyter.widget-view+json": {
       "model_id": "1a5894d8b2274f16877e947f825ba0b5",
       "version_major": 2,
       "version_minor": 0
      },
      "text/plain": [
       "Resolving data files:   0%|          | 0/693 [00:00<?, ?it/s]"
      ]
     },
     "metadata": {},
     "output_type": "display_data"
    },
    {
     "data": {
      "application/vnd.jupyter.widget-view+json": {
       "model_id": "a49a0eb0cd7b45f58d5ab14e6073390f",
       "version_major": 2,
       "version_minor": 0
      },
      "text/plain": [
       "Downloading data:   0%|          | 0/693 [00:00<?, ?files/s]"
      ]
     },
     "metadata": {},
     "output_type": "display_data"
    },
    {
     "data": {
      "application/vnd.jupyter.widget-view+json": {
       "model_id": "8dc27d91427547838df53c25a4afea69",
       "version_major": 2,
       "version_minor": 0
      },
      "text/plain": [
       "Generating train split: 0 examples [00:00, ? examples/s]"
      ]
     },
     "metadata": {},
     "output_type": "display_data"
    },
    {
     "data": {
      "application/vnd.jupyter.widget-view+json": {
       "model_id": "5e8fdf15b49c4dc4a8022ee8c66e0480",
       "version_major": 2,
       "version_minor": 0
      },
      "text/plain": [
       "Resolving data files:   0%|          | 0/176 [00:00<?, ?it/s]"
      ]
     },
     "metadata": {},
     "output_type": "display_data"
    },
    {
     "data": {
      "application/vnd.jupyter.widget-view+json": {
       "model_id": "b163726a0d1d494e89505bdac519dd71",
       "version_major": 2,
       "version_minor": 0
      },
      "text/plain": [
       "Downloading data:   0%|          | 0/176 [00:00<?, ?files/s]"
      ]
     },
     "metadata": {},
     "output_type": "display_data"
    },
    {
     "data": {
      "application/vnd.jupyter.widget-view+json": {
       "model_id": "e4b4574aba3f4d9dacd12ebdb211665c",
       "version_major": 2,
       "version_minor": 0
      },
      "text/plain": [
       "Generating train split: 0 examples [00:00, ? examples/s]"
      ]
     },
     "metadata": {},
     "output_type": "display_data"
    },
    {
     "name": "stdout",
     "output_type": "stream",
     "text": [
      "DatasetDict({\n",
      "    train: Dataset({\n",
      "        features: ['image', 'label'],\n",
      "        num_rows: 693\n",
      "    })\n",
      "    val: Dataset({\n",
      "        features: ['image', 'label'],\n",
      "        num_rows: 176\n",
      "    })\n",
      "})\n"
     ]
    }
   ],
   "source": [
    "# Path to the dataset directory\n",
    "# possible error and fix.\n",
    "# pip install -U datasets huggingface_hub fsspec\n",
    "\n",
    "data_dir = \"your_dataset_directory\"  # Replace with your dataset directory path\n",
    "\n",
    "train_dataset = load_dataset(\"imagefolder\", data_dir=f\"{data_dir}/train\")\n",
    "val_dataset = load_dataset(\"imagefolder\", data_dir=f\"{data_dir}/val\")\n",
    "\n",
    "train_dataset[\"train\"] = train_dataset[\"train\"].shuffle(seed=42)\n",
    "val_dataset[\"train\"] = val_dataset[\"train\"].shuffle(seed=42)\n",
    "\n",
    "dataset = DatasetDict({\n",
    "    \"train\": train_dataset[\"train\"],\n",
    "    \"val\": val_dataset[\"train\"],\n",
    "})\n",
    "\n",
    "print(dataset)"
   ]
  },
  {
   "cell_type": "code",
   "execution_count": 9,
   "id": "4d833402-03e1-4896-963d-9a50bb73d2dc",
   "metadata": {
    "tags": []
   },
   "outputs": [
    {
     "data": {
      "text/plain": [
       "{'image': Image(mode=None, decode=True, id=None),\n",
       " 'label': ClassLabel(names=['negative', 'positive'], id=None)}"
      ]
     },
     "execution_count": 9,
     "metadata": {},
     "output_type": "execute_result"
    }
   ],
   "source": [
    "dataset['train'].features"
   ]
  },
  {
   "cell_type": "code",
   "execution_count": 11,
   "id": "ddddaeab-644b-4cbc-b15b-3f24e4dc98fc",
   "metadata": {
    "tags": []
   },
   "outputs": [],
   "source": [
    "# set up the weighted sampler\n",
    "train_class_weights = get_class_weights(train_dataset[\"train\"])\n",
    "train_sample_weights = get_sample_weights(train_dataset[\"train\"], train_class_weights)\n",
    "train_sampler = WeightedRandomSampler(train_sample_weights, len(train_sample_weights))\n",
    "labels = dataset['train'].features['label'].names"
   ]
  },
  {
   "cell_type": "code",
   "execution_count": 14,
   "id": "e8aeab8a-9005-455f-8298-083b4b686a82",
   "metadata": {
    "tags": []
   },
   "outputs": [
    {
     "name": "stdout",
     "output_type": "stream",
     "text": [
      "['negative', 'positive']\n"
     ]
    }
   ],
   "source": [
    "labels = dataset['train'].features['label'].names\n",
    "print(labels)"
   ]
  },
  {
   "cell_type": "code",
   "execution_count": 15,
   "id": "72f371e6-f193-4758-99cc-c44726b668be",
   "metadata": {
    "tags": []
   },
   "outputs": [
    {
     "data": {
      "image/png": "[encoded data removed]",
      "text/plain": [
       "<Figure size 1000x600 with 16 Axes>"
      ]
     },
     "metadata": {},
     "output_type": "display_data"
    }
   ],
   "source": [
    "batch = dataset['train'].select(range(16))\n",
    "pointer = 0\n",
    "fig, ax = plt.subplots(4, 4, sharex=True, sharey=True, figsize=(10,6))\n",
    "for i in range(4):\n",
    "    for j in range(4):\n",
    "        ax[i,j].imshow(batch[pointer]['image'], cmap='gray')\n",
    "        ax[i,j].set_title(f\"{labels[batch[pointer]['label']]} ({batch[pointer]['label']})\")\n",
    "        ax[i,j].axis('off')\n",
    "        pointer+=1\n",
    "\n",
    "fig.tight_layout()\n",
    "plt.show()"
   ]
  },
  {
   "cell_type": "code",
   "execution_count": null,
   "id": "0ef3ce0e-c0bb-4a42-be9f-e3c7e5d75bac",
   "metadata": {
    "tags": []
   },
   "outputs": [
    {
     "name": "stderr",
     "output_type": "stream",
     "text": [
      "/opt/conda/lib/python3.11/site-packages/transformers/models/mobilevit/feature_extraction_mobilevit.py:28: FutureWarning: The class MobileViTFeatureExtractor is deprecated and will be removed in version 5 of Transformers. Please use MobileViTImageProcessor instead.\n",
      "  warnings.warn(\n"
     ]
    }
   ],
   "source": [
    "device = torch.device('cuda' if torch.cuda.is_available() else 'cpu')\n",
    "\n",
    "# mobile vit\n",
    "model_name = \"apple/mobilevit-small\"\n",
    "image_processor = MobileViTFeatureExtractor.from_pretrained(model_name)"
   ]
  },
  {
   "cell_type": "code",
   "execution_count": null,
   "id": "5f216fd8-4523-48d8-ad7f-8e267eaf3232",
   "metadata": {
    "tags": []
   },
   "outputs": [],
   "source": [
    "def preprocess_data(example_batch):\n",
    "    inputs = image_processor(example_batch['image'], return_tensors='pt')\n",
    "    inputs['labels'] = example_batch['label']\n",
    "    return inputs\n",
    "\n",
    "\n",
    "# Apply the transforms to the dataset\n",
    "processed_dataset = dataset.with_transform(preprocess_data)"
   ]
  },
  {
   "cell_type": "code",
   "execution_count": 18,
   "id": "2ae9d062-444c-4832-85a4-83abff01c6f5",
   "metadata": {
    "tags": []
   },
   "outputs": [
    {
     "data": {
      "text/plain": [
       "{'image': Image(mode=None, decode=True, id=None),\n",
       " 'label': ClassLabel(names=['negative', 'positive'], id=None)}"
      ]
     },
     "execution_count": 18,
     "metadata": {},
     "output_type": "execute_result"
    }
   ],
   "source": [
    "processed_dataset['train'].features"
   ]
  },
  {
   "cell_type": "code",
   "execution_count": 19,
   "id": "98f82c84-f6b4-4806-9ae2-e2b7a659b1b8",
   "metadata": {
    "tags": []
   },
   "outputs": [],
   "source": [
    "# Define collate_fn\n",
    "def collate_fn(batch):\n",
    "    return {\n",
    "        'pixel_values': torch.stack([x['pixel_values'] for x in batch]),\n",
    "        'labels': torch.tensor([x['labels'] for x in batch])\n",
    "    }"
   ]
  },
  {
   "cell_type": "code",
   "execution_count": 21,
   "id": "504170d1-4e56-4151-b89e-2f001de28c0d",
   "metadata": {
    "tags": []
   },
   "outputs": [],
   "source": [
    "# Apply the transforms to the dataset\n",
    "processed_dataset = dataset.with_transform(preprocess_data)\n",
    "train_dataloader = torch.utils.data.DataLoader(\n",
    "    processed_dataset[\"train\"], sampler=train_sampler, batch_size=32, collate_fn=collate_fn\n",
    ")\n",
    "val_dataloader = torch.utils.data.DataLoader(\n",
    "    processed_dataset[\"val\"], batch_size=32, collate_fn=collate_fn\n",
    ")\n",
    "\n",
    "# train_dataloader = torch.utils.data.DataLoader(\n",
    "#     processed_dataset[\"train\"], batch_size=32, collate_fn=collate_fn\n",
    "# )\n",
    "# val_dataloader = torch.utils.data.DataLoader(\n",
    "#     processed_dataset[\"val\"], batch_size=32, collate_fn=collate_fn\n",
    "# )"
   ]
  },
  {
   "cell_type": "code",
   "execution_count": null,
   "id": "61a897c4-7414-4402-8dc5-3c4ddbd66884",
   "metadata": {
    "tags": []
   },
   "outputs": [],
   "source": [
    "# define the training metrics\n",
    "from transformers import ViTForImageClassification, SwinForImageClassification, AutoModelForImageClassification, MobileViTForImageClassification, ConvNextV2ForImageClassification\n",
    "from transformers import AutoModelForImageClassification, AutoFeatureExtractor\n",
    "import torch.nn as nn\n",
    "\n",
    "labels = dataset['train'].features['label'].names\n",
    "num_classes = 2\n",
    "\n",
    "model = AutoModelForImageClassification.from_pretrained(model_name)\n",
    "\n",
    "\n",
    "def compute_metrics(p):\n",
    "    labels = p.label_ids\n",
    "    preds = p.predictions.argmax(-1)\n",
    "    acc = accuracy_score(labels, preds)\n",
    "    f1 = f1_score(labels, preds, average='weighted')\n",
    "    auc = roc_auc_score(labels, preds)\n",
    "    precision = precision_score(labels, preds, average='weighted')\n",
    "    recall = recall_score(labels, preds, average='weighted')\n",
    "\n",
    "    return {\n",
    "        'accuracy': acc,\n",
    "        'f1': f1,\n",
    "        'auc': auc,\n",
    "        'precision': precision,\n",
    "        'recall': recall,\n",
    "    }"
   ]
  },
  {
   "cell_type": "code",
   "execution_count": null,
   "id": "e619a076-e63d-4f9c-9c13-0a75aa9da1cf",
   "metadata": {
    "tags": []
   },
   "outputs": [],
   "source": [
    "from transformers import TrainingArguments\n",
    "\n",
    "training_args = TrainingArguments(output_dir='your_output_directory',  # Replace with your output directory\n",
    "                                  per_device_train_batch_size=64,\n",
    "                                  per_device_eval_batch_size=64,\n",
    "                                  eval_strategy='epoch',\n",
    "                                  save_strategy='epoch',\n",
    "                                  num_train_epochs=50,\n",
    "                                  fp16=True if torch.cuda.is_available() else False,\n",
    "                                  # save_steps=100,\n",
    "                                  # eval_steps=100,\n",
    "                                  logging_dir=\"your_logging_directory\",  # Replace with your logging directory\n",
    "                                  logging_steps=10,\n",
    "                                  learning_rate=1e-4,\n",
    "                                  weight_decay=0.01,\n",
    "                                  save_total_limit=2,\n",
    "                                  dataloader_num_workers=4,\n",
    "                                  remove_unused_columns=False,\n",
    "                                  report_to='tensorboard',\n",
    "                                  push_to_hub=False,\n",
    "                                  metric_for_best_model = 'accuracy',\n",
    "                                  load_best_model_at_end=True)"
   ]
  },
  {
   "cell_type": "code",
   "execution_count": null,
   "id": "8dcb34bb-0993-4931-a827-9ad2367912b2",
   "metadata": {
    "tags": []
   },
   "outputs": [],
   "source": [
    "from transformers import Trainer\n",
    "from torch.nn import CrossEntropyLoss\n",
    "\n",
    "class CustomTrainer(Trainer):\n",
    "    def get_train_dataloader(self):\n",
    "        return train_dataloader  # Use the custom DataLoader for training\n",
    "\n",
    "    def get_eval_dataloader(self, eval_dataset=None):\n",
    "        return val_dataloader  # Use the custom DataLoader for evaluation\n"
   ]
  },
  {
   "cell_type": "code",
   "execution_count": 25,
   "id": "fd7822e9-2e16-4fc5-b437-24260c924fe2",
   "metadata": {
    "tags": []
   },
   "outputs": [
    {
     "name": "stderr",
     "output_type": "stream",
     "text": [
      "/tmp/ipykernel_5190/3901715386.py:3: FutureWarning: `tokenizer` is deprecated and will be removed in version 5.0.0 for `CustomTrainer.__init__`. Use `processing_class` instead.\n",
      "  trainer = CustomTrainer(\n"
     ]
    }
   ],
   "source": [
    "from transformers import Trainer, TrainingArguments\n",
    "\n",
    "trainer = CustomTrainer(\n",
    "    model=model,\n",
    "    args=training_args,\n",
    "    data_collator=collate_fn,\n",
    "    train_dataset=train_dataloader,\n",
    "    eval_dataset=val_dataloader,\n",
    "    compute_metrics=compute_metrics,\n",
    "    tokenizer=image_processor,\n",
    ")"
   ]
  },
  {
   "cell_type": "code",
   "execution_count": null,
   "id": "14e2d3a2-4ca1-4399-8540-1aa7bf2ff935",
   "metadata": {
    "tags": []
   },
   "outputs": [
    {
     "data": {
      "text/html": [
       "\n",
       "    <div>\n",
       "      \n",
       "      <progress value='1100' max='1100' style='width:300px; height:20px; vertical-align: middle;'></progress>\n",
       "      [1100/1100 05:30, Epoch 50/50]\n",
       "    </div>\n",
       "    <table border=\"1\" class=\"dataframe\">\n",
       "  <thead>\n",
       " <tr style=\"text-align: left;\">\n",
       "      <th>Epoch</th>\n",
       "      <th>Training Loss</th>\n",
       "      <th>Validation Loss</th>\n",
       "      <th>Accuracy</th>\n",
       "      <th>F1</th>\n",
       "      <th>Auc</th>\n",
       "      <th>Precision</th>\n",
       "      <th>Recall</th>\n",
       "    </tr>\n",
       "  </thead>\n",
       "  <tbody>\n",
       "    <tr>\n",
       "      <td>1</td>\n",
       "      <td>6.322000</td>\n",
       "      <td>5.948265</td>\n",
       "      <td>0.085227</td>\n",
       "      <td>0.116627</td>\n",
       "      <td>0.682014</td>\n",
       "      <td>0.184659</td>\n",
       "      <td>0.085227</td>\n",
       "    </tr>\n",
       "    <tr>\n",
       "      <td>2</td>\n",
       "      <td>4.468400</td>\n",
       "      <td>3.186157</td>\n",
       "      <td>0.636364</td>\n",
       "      <td>0.708475</td>\n",
       "      <td>0.675370</td>\n",
       "      <td>0.801814</td>\n",
       "      <td>0.636364</td>\n",
       "    </tr>\n",
       "    <tr>\n",
       "      <td>3</td>\n",
       "      <td>2.441100</td>\n",
       "      <td>1.945136</td>\n",
       "      <td>0.738636</td>\n",
       "      <td>0.753992</td>\n",
       "      <td>0.699607</td>\n",
       "      <td>0.780397</td>\n",
       "      <td>0.738636</td>\n",
       "    </tr>\n",
       "    <tr>\n",
       "      <td>4</td>\n",
       "      <td>1.096800</td>\n",
       "      <td>0.883169</td>\n",
       "      <td>0.846591</td>\n",
       "      <td>0.845874</td>\n",
       "      <td>0.773068</td>\n",
       "      <td>0.845224</td>\n",
       "      <td>0.846591</td>\n",
       "    </tr>\n",
       "    <tr>\n",
       "      <td>5</td>\n",
       "      <td>0.468000</td>\n",
       "      <td>0.492489</td>\n",
       "      <td>0.875000</td>\n",
       "      <td>0.868010</td>\n",
       "      <td>0.772974</td>\n",
       "      <td>0.869429</td>\n",
       "      <td>0.875000</td>\n",
       "    </tr>\n",
       "    <tr>\n",
       "      <td>6</td>\n",
       "      <td>0.323600</td>\n",
       "      <td>0.504244</td>\n",
       "      <td>0.880682</td>\n",
       "      <td>0.878942</td>\n",
       "      <td>0.813307</td>\n",
       "      <td>0.877881</td>\n",
       "      <td>0.880682</td>\n",
       "    </tr>\n",
       "    <tr>\n",
       "      <td>7</td>\n",
       "      <td>0.167700</td>\n",
       "      <td>0.464272</td>\n",
       "      <td>0.892045</td>\n",
       "      <td>0.881995</td>\n",
       "      <td>0.774752</td>\n",
       "      <td>0.894475</td>\n",
       "      <td>0.892045</td>\n",
       "    </tr>\n",
       "    <tr>\n",
       "      <td>8</td>\n",
       "      <td>0.129900</td>\n",
       "      <td>0.544343</td>\n",
       "      <td>0.875000</td>\n",
       "      <td>0.868010</td>\n",
       "      <td>0.772974</td>\n",
       "      <td>0.869429</td>\n",
       "      <td>0.875000</td>\n",
       "    </tr>\n",
       "    <tr>\n",
       "      <td>9</td>\n",
       "      <td>0.041300</td>\n",
       "      <td>0.603991</td>\n",
       "      <td>0.886364</td>\n",
       "      <td>0.881482</td>\n",
       "      <td>0.798615</td>\n",
       "      <td>0.881955</td>\n",
       "      <td>0.886364</td>\n",
       "    </tr>\n",
       "    <tr>\n",
       "      <td>10</td>\n",
       "      <td>0.049200</td>\n",
       "      <td>0.634997</td>\n",
       "      <td>0.892045</td>\n",
       "      <td>0.886722</td>\n",
       "      <td>0.802265</td>\n",
       "      <td>0.888426</td>\n",
       "      <td>0.892045</td>\n",
       "    </tr>\n",
       "    <tr>\n",
       "      <td>11</td>\n",
       "      <td>0.066300</td>\n",
       "      <td>0.672743</td>\n",
       "      <td>0.903409</td>\n",
       "      <td>0.895938</td>\n",
       "      <td>0.800393</td>\n",
       "      <td>0.905114</td>\n",
       "      <td>0.903409</td>\n",
       "    </tr>\n",
       "    <tr>\n",
       "      <td>12</td>\n",
       "      <td>0.064000</td>\n",
       "      <td>0.624963</td>\n",
       "      <td>0.863636</td>\n",
       "      <td>0.862336</td>\n",
       "      <td>0.793187</td>\n",
       "      <td>0.861321</td>\n",
       "      <td>0.863636</td>\n",
       "    </tr>\n",
       "    <tr>\n",
       "      <td>13</td>\n",
       "      <td>0.039000</td>\n",
       "      <td>0.762054</td>\n",
       "      <td>0.875000</td>\n",
       "      <td>0.866259</td>\n",
       "      <td>0.763803</td>\n",
       "      <td>0.870153</td>\n",
       "      <td>0.875000</td>\n",
       "    </tr>\n",
       "    <tr>\n",
       "      <td>14</td>\n",
       "      <td>0.049700</td>\n",
       "      <td>0.667110</td>\n",
       "      <td>0.852273</td>\n",
       "      <td>0.854782</td>\n",
       "      <td>0.804230</td>\n",
       "      <td>0.858321</td>\n",
       "      <td>0.852273</td>\n",
       "    </tr>\n",
       "    <tr>\n",
       "      <td>15</td>\n",
       "      <td>0.067700</td>\n",
       "      <td>0.661781</td>\n",
       "      <td>0.875000</td>\n",
       "      <td>0.868010</td>\n",
       "      <td>0.772974</td>\n",
       "      <td>0.869429</td>\n",
       "      <td>0.875000</td>\n",
       "    </tr>\n",
       "    <tr>\n",
       "      <td>16</td>\n",
       "      <td>0.045000</td>\n",
       "      <td>0.579524</td>\n",
       "      <td>0.897727</td>\n",
       "      <td>0.893334</td>\n",
       "      <td>0.815085</td>\n",
       "      <td>0.894471</td>\n",
       "      <td>0.897727</td>\n",
       "    </tr>\n",
       "    <tr>\n",
       "      <td>17</td>\n",
       "      <td>0.033900</td>\n",
       "      <td>0.694414</td>\n",
       "      <td>0.897727</td>\n",
       "      <td>0.889027</td>\n",
       "      <td>0.787573</td>\n",
       "      <td>0.899792</td>\n",
       "      <td>0.897727</td>\n",
       "    </tr>\n",
       "    <tr>\n",
       "      <td>18</td>\n",
       "      <td>0.048300</td>\n",
       "      <td>0.664359</td>\n",
       "      <td>0.863636</td>\n",
       "      <td>0.857778</td>\n",
       "      <td>0.765675</td>\n",
       "      <td>0.856922</td>\n",
       "      <td>0.863636</td>\n",
       "    </tr>\n",
       "    <tr>\n",
       "      <td>19</td>\n",
       "      <td>0.024100</td>\n",
       "      <td>0.836224</td>\n",
       "      <td>0.903409</td>\n",
       "      <td>0.895938</td>\n",
       "      <td>0.800393</td>\n",
       "      <td>0.905114</td>\n",
       "      <td>0.903409</td>\n",
       "    </tr>\n",
       "    <tr>\n",
       "      <td>20</td>\n",
       "      <td>0.066700</td>\n",
       "      <td>0.666959</td>\n",
       "      <td>0.897727</td>\n",
       "      <td>0.892008</td>\n",
       "      <td>0.805914</td>\n",
       "      <td>0.895302</td>\n",
       "      <td>0.897727</td>\n",
       "    </tr>\n",
       "    <tr>\n",
       "      <td>21</td>\n",
       "      <td>0.048200</td>\n",
       "      <td>0.682200</td>\n",
       "      <td>0.897727</td>\n",
       "      <td>0.895699</td>\n",
       "      <td>0.833427</td>\n",
       "      <td>0.894955</td>\n",
       "      <td>0.897727</td>\n",
       "    </tr>\n",
       "    <tr>\n",
       "      <td>22</td>\n",
       "      <td>0.013800</td>\n",
       "      <td>0.889026</td>\n",
       "      <td>0.897727</td>\n",
       "      <td>0.887352</td>\n",
       "      <td>0.778402</td>\n",
       "      <td>0.903876</td>\n",
       "      <td>0.897727</td>\n",
       "    </tr>\n",
       "    <tr>\n",
       "      <td>23</td>\n",
       "      <td>0.029900</td>\n",
       "      <td>0.752730</td>\n",
       "      <td>0.903409</td>\n",
       "      <td>0.895938</td>\n",
       "      <td>0.800393</td>\n",
       "      <td>0.905114</td>\n",
       "      <td>0.903409</td>\n",
       "    </tr>\n",
       "    <tr>\n",
       "      <td>24</td>\n",
       "      <td>0.023100</td>\n",
       "      <td>0.699282</td>\n",
       "      <td>0.897727</td>\n",
       "      <td>0.890575</td>\n",
       "      <td>0.796743</td>\n",
       "      <td>0.897015</td>\n",
       "      <td>0.897727</td>\n",
       "    </tr>\n",
       "    <tr>\n",
       "      <td>25</td>\n",
       "      <td>0.003500</td>\n",
       "      <td>0.828687</td>\n",
       "      <td>0.886364</td>\n",
       "      <td>0.878417</td>\n",
       "      <td>0.780273</td>\n",
       "      <td>0.883584</td>\n",
       "      <td>0.886364</td>\n",
       "    </tr>\n",
       "    <tr>\n",
       "      <td>26</td>\n",
       "      <td>0.026500</td>\n",
       "      <td>0.806236</td>\n",
       "      <td>0.886364</td>\n",
       "      <td>0.876697</td>\n",
       "      <td>0.771102</td>\n",
       "      <td>0.885774</td>\n",
       "      <td>0.886364</td>\n",
       "    </tr>\n",
       "    <tr>\n",
       "      <td>27</td>\n",
       "      <td>0.004300</td>\n",
       "      <td>0.795277</td>\n",
       "      <td>0.886364</td>\n",
       "      <td>0.876697</td>\n",
       "      <td>0.771102</td>\n",
       "      <td>0.885774</td>\n",
       "      <td>0.886364</td>\n",
       "    </tr>\n",
       "    <tr>\n",
       "      <td>28</td>\n",
       "      <td>0.025500</td>\n",
       "      <td>0.875113</td>\n",
       "      <td>0.903409</td>\n",
       "      <td>0.894417</td>\n",
       "      <td>0.791222</td>\n",
       "      <td>0.908829</td>\n",
       "      <td>0.903409</td>\n",
       "    </tr>\n",
       "    <tr>\n",
       "      <td>29</td>\n",
       "      <td>0.008200</td>\n",
       "      <td>0.725640</td>\n",
       "      <td>0.892045</td>\n",
       "      <td>0.883695</td>\n",
       "      <td>0.783923</td>\n",
       "      <td>0.891402</td>\n",
       "      <td>0.892045</td>\n",
       "    </tr>\n",
       "    <tr>\n",
       "      <td>30</td>\n",
       "      <td>0.025700</td>\n",
       "      <td>0.857889</td>\n",
       "      <td>0.892045</td>\n",
       "      <td>0.881995</td>\n",
       "      <td>0.774752</td>\n",
       "      <td>0.894475</td>\n",
       "      <td>0.892045</td>\n",
       "    </tr>\n",
       "    <tr>\n",
       "      <td>31</td>\n",
       "      <td>0.041500</td>\n",
       "      <td>0.825450</td>\n",
       "      <td>0.892045</td>\n",
       "      <td>0.883695</td>\n",
       "      <td>0.783923</td>\n",
       "      <td>0.891402</td>\n",
       "      <td>0.892045</td>\n",
       "    </tr>\n",
       "    <tr>\n",
       "      <td>32</td>\n",
       "      <td>0.013600</td>\n",
       "      <td>0.737389</td>\n",
       "      <td>0.886364</td>\n",
       "      <td>0.878417</td>\n",
       "      <td>0.780273</td>\n",
       "      <td>0.883584</td>\n",
       "      <td>0.886364</td>\n",
       "    </tr>\n",
       "    <tr>\n",
       "      <td>33</td>\n",
       "      <td>0.012900</td>\n",
       "      <td>0.781274</td>\n",
       "      <td>0.892045</td>\n",
       "      <td>0.881995</td>\n",
       "      <td>0.774752</td>\n",
       "      <td>0.894475</td>\n",
       "      <td>0.892045</td>\n",
       "    </tr>\n",
       "    <tr>\n",
       "      <td>34</td>\n",
       "      <td>0.016100</td>\n",
       "      <td>0.709787</td>\n",
       "      <td>0.892045</td>\n",
       "      <td>0.883695</td>\n",
       "      <td>0.783923</td>\n",
       "      <td>0.891402</td>\n",
       "      <td>0.892045</td>\n",
       "    </tr>\n",
       "    <tr>\n",
       "      <td>35</td>\n",
       "      <td>0.011900</td>\n",
       "      <td>0.802226</td>\n",
       "      <td>0.903409</td>\n",
       "      <td>0.895938</td>\n",
       "      <td>0.800393</td>\n",
       "      <td>0.905114</td>\n",
       "      <td>0.903409</td>\n",
       "    </tr>\n",
       "    <tr>\n",
       "      <td>36</td>\n",
       "      <td>0.016500</td>\n",
       "      <td>0.838237</td>\n",
       "      <td>0.892045</td>\n",
       "      <td>0.881995</td>\n",
       "      <td>0.774752</td>\n",
       "      <td>0.894475</td>\n",
       "      <td>0.892045</td>\n",
       "    </tr>\n",
       "    <tr>\n",
       "      <td>37</td>\n",
       "      <td>0.042100</td>\n",
       "      <td>0.792199</td>\n",
       "      <td>0.892045</td>\n",
       "      <td>0.881995</td>\n",
       "      <td>0.774752</td>\n",
       "      <td>0.894475</td>\n",
       "      <td>0.892045</td>\n",
       "    </tr>\n",
       "    <tr>\n",
       "      <td>38</td>\n",
       "      <td>0.055000</td>\n",
       "      <td>0.853750</td>\n",
       "      <td>0.897727</td>\n",
       "      <td>0.887352</td>\n",
       "      <td>0.778402</td>\n",
       "      <td>0.903876</td>\n",
       "      <td>0.897727</td>\n",
       "    </tr>\n",
       "    <tr>\n",
       "      <td>39</td>\n",
       "      <td>0.024600</td>\n",
       "      <td>0.732204</td>\n",
       "      <td>0.897727</td>\n",
       "      <td>0.889027</td>\n",
       "      <td>0.787573</td>\n",
       "      <td>0.899792</td>\n",
       "      <td>0.897727</td>\n",
       "    </tr>\n",
       "    <tr>\n",
       "      <td>40</td>\n",
       "      <td>0.016100</td>\n",
       "      <td>0.770310</td>\n",
       "      <td>0.892045</td>\n",
       "      <td>0.883695</td>\n",
       "      <td>0.783923</td>\n",
       "      <td>0.891402</td>\n",
       "      <td>0.892045</td>\n",
       "    </tr>\n",
       "    <tr>\n",
       "      <td>41</td>\n",
       "      <td>0.005400</td>\n",
       "      <td>0.928099</td>\n",
       "      <td>0.892045</td>\n",
       "      <td>0.880156</td>\n",
       "      <td>0.765581</td>\n",
       "      <td>0.898945</td>\n",
       "      <td>0.892045</td>\n",
       "    </tr>\n",
       "    <tr>\n",
       "      <td>42</td>\n",
       "      <td>0.022200</td>\n",
       "      <td>0.852042</td>\n",
       "      <td>0.897727</td>\n",
       "      <td>0.887352</td>\n",
       "      <td>0.778402</td>\n",
       "      <td>0.903876</td>\n",
       "      <td>0.897727</td>\n",
       "    </tr>\n",
       "    <tr>\n",
       "      <td>43</td>\n",
       "      <td>0.034400</td>\n",
       "      <td>0.842556</td>\n",
       "      <td>0.897727</td>\n",
       "      <td>0.887352</td>\n",
       "      <td>0.778402</td>\n",
       "      <td>0.903876</td>\n",
       "      <td>0.897727</td>\n",
       "    </tr>\n",
       "    <tr>\n",
       "      <td>44</td>\n",
       "      <td>0.013200</td>\n",
       "      <td>0.924501</td>\n",
       "      <td>0.897727</td>\n",
       "      <td>0.887352</td>\n",
       "      <td>0.778402</td>\n",
       "      <td>0.903876</td>\n",
       "      <td>0.897727</td>\n",
       "    </tr>\n",
       "    <tr>\n",
       "      <td>45</td>\n",
       "      <td>0.020400</td>\n",
       "      <td>0.785502</td>\n",
       "      <td>0.886364</td>\n",
       "      <td>0.876697</td>\n",
       "      <td>0.771102</td>\n",
       "      <td>0.885774</td>\n",
       "      <td>0.886364</td>\n",
       "    </tr>\n",
       "    <tr>\n",
       "      <td>46</td>\n",
       "      <td>0.018800</td>\n",
       "      <td>0.930496</td>\n",
       "      <td>0.892045</td>\n",
       "      <td>0.881995</td>\n",
       "      <td>0.774752</td>\n",
       "      <td>0.894475</td>\n",
       "      <td>0.892045</td>\n",
       "    </tr>\n",
       "    <tr>\n",
       "      <td>47</td>\n",
       "      <td>0.017100</td>\n",
       "      <td>0.832693</td>\n",
       "      <td>0.886364</td>\n",
       "      <td>0.876697</td>\n",
       "      <td>0.771102</td>\n",
       "      <td>0.885774</td>\n",
       "      <td>0.886364</td>\n",
       "    </tr>\n",
       "    <tr>\n",
       "      <td>48</td>\n",
       "      <td>0.023400</td>\n",
       "      <td>0.796538</td>\n",
       "      <td>0.892045</td>\n",
       "      <td>0.881995</td>\n",
       "      <td>0.774752</td>\n",
       "      <td>0.894475</td>\n",
       "      <td>0.892045</td>\n",
       "    </tr>\n",
       "    <tr>\n",
       "      <td>49</td>\n",
       "      <td>0.046700</td>\n",
       "      <td>0.760080</td>\n",
       "      <td>0.897727</td>\n",
       "      <td>0.889027</td>\n",
       "      <td>0.787573</td>\n",
       "      <td>0.899792</td>\n",
       "      <td>0.897727</td>\n",
       "    </tr>\n",
       "    <tr>\n",
       "      <td>50</td>\n",
       "      <td>0.002500</td>\n",
       "      <td>0.877966</td>\n",
       "      <td>0.892045</td>\n",
       "      <td>0.881995</td>\n",
       "      <td>0.774752</td>\n",
       "      <td>0.894475</td>\n",
       "      <td>0.892045</td>\n",
       "    </tr>\n",
       "  </tbody>\n",
       "</table><p>"
      ],
      "text/plain": [
       "<IPython.core.display.HTML object>"
      ]
     },
     "metadata": {},
     "output_type": "display_data"
    },
    {
     "name": "stderr",
     "output_type": "stream",
     "text": [
      "/opt/conda/lib/python3.11/site-packages/sklearn/metrics/_classification.py:1531: UndefinedMetricWarning: Precision is ill-defined and being set to 0.0 in labels with no predicted samples. Use `zero_division` parameter to control this behavior.\n",
      "  _warn_prf(average, modifier, f\"{metric.capitalize()} is\", len(result))\n",
      "/opt/conda/lib/python3.11/site-packages/sklearn/metrics/_classification.py:1531: UndefinedMetricWarning: Recall is ill-defined and being set to 0.0 in labels with no true samples. Use `zero_division` parameter to control this behavior.\n",
      "  _warn_prf(average, modifier, f\"{metric.capitalize()} is\", len(result))\n",
      "/opt/conda/lib/python3.11/site-packages/sklearn/metrics/_classification.py:1531: UndefinedMetricWarning: Recall is ill-defined and being set to 0.0 in labels with no true samples. Use `zero_division` parameter to control this behavior.\n",
      "  _warn_prf(average, modifier, f\"{metric.capitalize()} is\", len(result))\n",
      "/opt/conda/lib/python3.11/site-packages/sklearn/metrics/_classification.py:1531: UndefinedMetricWarning: Recall is ill-defined and being set to 0.0 in labels with no true samples. Use `zero_division` parameter to control this behavior.\n",
      "  _warn_prf(average, modifier, f\"{metric.capitalize()} is\", len(result))\n"
     ]
    },
    {
     "name": "stdout",
     "output_type": "stream",
     "text": [
      "***** train metrics *****\n",
      "  epoch                    =        50.0\n",
      "  total_flos               = 212365281GF\n",
      "  train_loss               =      0.3491\n",
      "  train_runtime            =  0:05:32.42\n",
      "  train_samples_per_second =     104.235\n",
      "  train_steps_per_second   =       3.309\n"
     ]
    }
   ],
   "source": [
    "train_results = trainer.train()\n",
    "trainer.save_model(\"your_model_directory\")  # Replace with your model directory\n",
    "\n",
    "trainer.log_metrics(\"train\", train_results.metrics)\n",
    "trainer.save_metrics(\"train\", train_results.metrics)\n",
    "trainer.save_state()"
   ]
  }
 ],
 "metadata": {
  "availableInstances": [
   {
    "_defaultOrder": 0,
    "_isFastLaunch": true,
    "category": "General purpose",
    "gpuNum": 0,
    "hideHardwareSpecs": false,
    "memoryGiB": 4,
    "name": "ml.t3.medium",
    "vcpuNum": 2
   },
   {
    "_defaultOrder": 1,
    "_isFastLaunch": false,
    "category": "General purpose",
    "gpuNum": 0,
    "hideHardwareSpecs": false,
    "memoryGiB": 8,
    "name": "ml.t3.large",
    "vcpuNum": 2
   },
   {
    "_defaultOrder": 2,
    "_isFastLaunch": false,
    "category": "General purpose",
    "gpuNum": 0,
    "hideHardwareSpecs": false,
    "memoryGiB": 16,
    "name": "ml.t3.xlarge",
    "vcpuNum": 4
   },
   {
    "_defaultOrder": 3,
    "_isFastLaunch": false,
    "category": "General purpose",
    "gpuNum": 0,
    "hideHardwareSpecs": false,
    "memoryGiB": 32,
    "name": "ml.t3.2xlarge",
    "vcpuNum": 8
   },
   {
    "_defaultOrder": 4,
    "_isFastLaunch": true,
    "category": "General purpose",
    "gpuNum": 0,
    "hideHardwareSpecs": false,
    "memoryGiB": 8,
    "name": "ml.m5.large",
    "vcpuNum": 2
   },
   {
    "_defaultOrder": 5,
    "_isFastLaunch": false,
    "category": "General purpose",
    "gpuNum": 0,
    "hideHardwareSpecs": false,
    "memoryGiB": 16,
    "name": "ml.m5.xlarge",
    "vcpuNum": 4
   },
   {
    "_defaultOrder": 6,
    "_isFastLaunch": false,
    "category": "General purpose",
    "gpuNum": 0,
    "hideHardwareSpecs": false,
    "memoryGiB": 32,
    "name": "ml.m5.2xlarge",
    "vcpuNum": 8
   },
   {
    "_defaultOrder": 7,
    "_isFastLaunch": false,
    "category": "General purpose",
    "gpuNum": 0,
    "hideHardwareSpecs": false,
    "memoryGiB": 64,
    "name": "ml.m5.4xlarge",
    "vcpuNum": 16
   },
   {
    "_defaultOrder": 8,
    "_isFastLaunch": false,
    "category": "General purpose",
    "gpuNum": 0,
    "hideHardwareSpecs": false,
    "memoryGiB": 128,
    "name": "ml.m5.8xlarge",
    "vcpuNum": 32
   },
   {
    "_defaultOrder": 9,
    "_isFastLaunch": false,
    "category": "General purpose",
    "gpuNum": 0,
    "hideHardwareSpecs": false,
    "memoryGiB": 192,
    "name": "ml.m5.12xlarge",
    "vcpuNum": 48
   },
   {
    "_defaultOrder": 10,
    "_isFastLaunch": false,
    "category": "General purpose",
    "gpuNum": 0,
    "hideHardwareSpecs": false,
    "memoryGiB": 256,
    "name": "ml.m5.16xlarge",
    "vcpuNum": 64
   },
   {
    "_defaultOrder": 11,
    "_isFastLaunch": false,
    "category": "General purpose",
    "gpuNum": 0,
    "hideHardwareSpecs": false,
    "memoryGiB": 384,
    "name": "ml.m5.24xlarge",
    "vcpuNum": 96
   },
   {
    "_defaultOrder": 12,
    "_isFastLaunch": false,
    "category": "General purpose",
    "gpuNum": 0,
    "hideHardwareSpecs": false,
    "memoryGiB": 8,
    "name": "ml.m5d.large",
    "vcpuNum": 2
   },
   {
    "_defaultOrder": 13,
    "_isFastLaunch": false,
    "category": "General purpose",
    "gpuNum": 0,
    "hideHardwareSpecs": false,
    "memoryGiB": 16,
    "name": "ml.m5d.xlarge",
    "vcpuNum": 4
   },
   {
    "_defaultOrder": 14,
    "_isFastLaunch": false,
    "category": "General purpose",
    "gpuNum": 0,
    "hideHardwareSpecs": false,
    "memoryGiB": 32,
    "name": "ml.m5d.2xlarge",
    "vcpuNum": 8
   },
   {
    "_defaultOrder": 15,
    "_isFastLaunch": false,
    "category": "General purpose",
    "gpuNum": 0,
    "hideHardwareSpecs": false,
    "memoryGiB": 64,
    "name": "ml.m5d.4xlarge",
    "vcpuNum": 16
   },
   {
    "_defaultOrder": 16,
    "_isFastLaunch": false,
    "category": "General purpose",
    "gpuNum": 0,
    "hideHardwareSpecs": false,
    "memoryGiB": 128,
    "name": "ml.m5d.8xlarge",
    "vcpuNum": 32
   },
   {
    "_defaultOrder": 17,
    "_isFastLaunch": false,
    "category": "General purpose",
    "gpuNum": 0,
    "hideHardwareSpecs": false,
    "memoryGiB": 192,
    "name": "ml.m5d.12xlarge",
    "vcpuNum": 48
   },
   {
    "_defaultOrder": 18,
    "_isFastLaunch": false,
    "category": "General purpose",
    "gpuNum": 0,
    "hideHardwareSpecs": false,
    "memoryGiB": 256,
    "name": "ml.m5d.16xlarge",
    "vcpuNum": 64
   },
   {
    "_defaultOrder": 19,
    "_isFastLaunch": false,
    "category": "General purpose",
    "gpuNum": 0,
    "hideHardwareSpecs": false,
    "memoryGiB": 384,
    "name": "ml.m5d.24xlarge",
    "vcpuNum": 96
   },
   {
    "_defaultOrder": 20,
    "_isFastLaunch": false,
    "category": "General purpose",
    "gpuNum": 0,
    "hideHardwareSpecs": true,
    "memoryGiB": 0,
    "name": "ml.geospatial.interactive",
    "supportedImageNames": [
     "sagemaker-geospatial-v1-0"
    ],
    "vcpuNum": 0
   },
   {
    "_defaultOrder": 21,
    "_isFastLaunch": true,
    "category": "Compute optimized",
    "gpuNum": 0,
    "hideHardwareSpecs": false,
    "memoryGiB": 4,
    "name": "ml.c5.large",
    "vcpuNum": 2
   },
   {
    "_defaultOrder": 22,
    "_isFastLaunch": false,
    "category": "Compute optimized",
    "gpuNum": 0,
    "hideHardwareSpecs": false,
    "memoryGiB": 8,
    "name": "ml.c5.xlarge",
    "vcpuNum": 4
   },
   {
    "_defaultOrder": 23,
    "_isFastLaunch": false,
    "category": "Compute optimized",
    "gpuNum": 0,
    "hideHardwareSpecs": false,
    "memoryGiB": 16,
    "name": "ml.c5.2xlarge",
    "vcpuNum": 8
   },
   {
    "_defaultOrder": 24,
    "_isFastLaunch": false,
    "category": "Compute optimized",
    "gpuNum": 0,
    "hideHardwareSpecs": false,
    "memoryGiB": 32,
    "name": "ml.c5.4xlarge",
    "vcpuNum": 16
   },
   {
    "_defaultOrder": 25,
    "_isFastLaunch": false,
    "category": "Compute optimized",
    "gpuNum": 0,
    "hideHardwareSpecs": false,
    "memoryGiB": 72,
    "name": "ml.c5.9xlarge",
    "vcpuNum": 36
   },
   {
    "_defaultOrder": 26,
    "_isFastLaunch": false,
    "category": "Compute optimized",
    "gpuNum": 0,
    "hideHardwareSpecs": false,
    "memoryGiB": 96,
    "name": "ml.c5.12xlarge",
    "vcpuNum": 48
   },
   {
    "_defaultOrder": 27,
    "_isFastLaunch": false,
    "category": "Compute optimized",
    "gpuNum": 0,
    "hideHardwareSpecs": false,
    "memoryGiB": 144,
    "name": "ml.c5.18xlarge",
    "vcpuNum": 72
   },
   {
    "_defaultOrder": 28,
    "_isFastLaunch": false,
    "category": "Compute optimized",
    "gpuNum": 0,
    "hideHardwareSpecs": false,
    "memoryGiB": 192,
    "name": "ml.c5.24xlarge",
    "vcpuNum": 96
   },
   {
    "_defaultOrder": 29,
    "_isFastLaunch": true,
    "category": "Accelerated computing",
    "gpuNum": 1,
    "hideHardwareSpecs": false,
    "memoryGiB": 16,
    "name": "ml.g4dn.xlarge",
    "vcpuNum": 4
   },
   {
    "_defaultOrder": 30,
    "_isFastLaunch": false,
    "category": "Accelerated computing",
    "gpuNum": 1,
    "hideHardwareSpecs": false,
    "memoryGiB": 32,
    "name": "ml.g4dn.2xlarge",
    "vcpuNum": 8
   },
   {
    "_defaultOrder": 31,
    "_isFastLaunch": false,
    "category": "Accelerated computing",
    "gpuNum": 1,
    "hideHardwareSpecs": false,
    "memoryGiB": 64,
    "name": "ml.g4dn.4xlarge",
    "vcpuNum": 16
   },
   {
    "_defaultOrder": 32,
    "_isFastLaunch": false,
    "category": "Accelerated computing",
    "gpuNum": 1,
    "hideHardwareSpecs": false,
    "memoryGiB": 128,
    "name": "ml.g4dn.8xlarge",
    "vcpuNum": 32
   },
   {
    "_defaultOrder": 33,
    "_isFastLaunch": false,
    "category": "Accelerated computing",
    "gpuNum": 4,
    "hideHardwareSpecs": false,
    "memoryGiB": 192,
    "name": "ml.g4dn.12xlarge",
    "vcpuNum": 48
   },
   {
    "_defaultOrder": 34,
    "_isFastLaunch": false,
    "category": "Accelerated computing",
    "gpuNum": 1,
    "hideHardwareSpecs": false,
    "memoryGiB": 256,
    "name": "ml.g4dn.16xlarge",
    "vcpuNum": 64
   },
   {
    "_defaultOrder": 35,
    "_isFastLaunch": false,
    "category": "Accelerated computing",
    "gpuNum": 1,
    "hideHardwareSpecs": false,
    "memoryGiB": 61,
    "name": "ml.p3.2xlarge",
    "vcpuNum": 8
   },
   {
    "_defaultOrder": 36,
    "_isFastLaunch": false,
    "category": "Accelerated computing",
    "gpuNum": 4,
    "hideHardwareSpecs": false,
    "memoryGiB": 244,
    "name": "ml.p3.8xlarge",
    "vcpuNum": 32
   },
   {
    "_defaultOrder": 37,
    "_isFastLaunch": false,
    "category": "Accelerated computing",
    "gpuNum": 8,
    "hideHardwareSpecs": false,
    "memoryGiB": 488,
    "name": "ml.p3.16xlarge",
    "vcpuNum": 64
   },
   {
    "_defaultOrder": 38,
    "_isFastLaunch": false,
    "category": "Accelerated computing",
    "gpuNum": 8,
    "hideHardwareSpecs": false,
    "memoryGiB": 768,
    "name": "ml.p3dn.24xlarge",
    "vcpuNum": 96
   },
   {
    "_defaultOrder": 39,
    "_isFastLaunch": false,
    "category": "Memory Optimized",
    "gpuNum": 0,
    "hideHardwareSpecs": false,
    "memoryGiB": 16,
    "name": "ml.r5.large",
    "vcpuNum": 2
   },
   {
    "_defaultOrder": 40,
    "_isFastLaunch": false,
    "category": "Memory Optimized",
    "gpuNum": 0,
    "hideHardwareSpecs": false,
    "memoryGiB": 32,
    "name": "ml.r5.xlarge",
    "vcpuNum": 4
   },
   {
    "_defaultOrder": 41,
    "_isFastLaunch": false,
    "category": "Memory Optimized",
    "gpuNum": 0,
    "hideHardwareSpecs": false,
    "memoryGiB": 64,
    "name": "ml.r5.2xlarge",
    "vcpuNum": 8
   },
   {
    "_defaultOrder": 42,
    "_isFastLaunch": false,
    "category": "Memory Optimized",
    "gpuNum": 0,
    "hideHardwareSpecs": false,
    "memoryGiB": 128,
    "name": "ml.r5.4xlarge",
    "vcpuNum": 16
   },
   {
    "_defaultOrder": 43,
    "_isFastLaunch": false,
    "category": "Memory Optimized",
    "gpuNum": 0,
    "hideHardwareSpecs": false,
    "memoryGiB": 256,
    "name": "ml.r5.8xlarge",
    "vcpuNum": 32
   },
   {
    "_defaultOrder": 44,
    "_isFastLaunch": false,
    "category": "Memory Optimized",
    "gpuNum": 0,
    "hideHardwareSpecs": false,
    "memoryGiB": 384,
    "name": "ml.r5.12xlarge",
    "vcpuNum": 48
   },
   {
    "_defaultOrder": 45,
    "_isFastLaunch": false,
    "category": "Memory Optimized",
    "gpuNum": 0,
    "hideHardwareSpecs": false,
    "memoryGiB": 512,
    "name": "ml.r5.16xlarge",
    "vcpuNum": 64
   },
   {
    "_defaultOrder": 46,
    "_isFastLaunch": false,
    "category": "Memory Optimized",
    "gpuNum": 0,
    "hideHardwareSpecs": false,
    "memoryGiB": 768,
    "name": "ml.r5.24xlarge",
    "vcpuNum": 96
   },
   {
    "_defaultOrder": 47,
    "_isFastLaunch": false,
    "category": "Accelerated computing",
    "gpuNum": 1,
    "hideHardwareSpecs": false,
    "memoryGiB": 16,
    "name": "ml.g5.xlarge",
    "vcpuNum": 4
   },
   {
    "_defaultOrder": 48,
    "_isFastLaunch": false,
    "category": "Accelerated computing",
    "gpuNum": 1,
    "hideHardwareSpecs": false,
    "memoryGiB": 32,
    "name": "ml.g5.2xlarge",
    "vcpuNum": 8
   },
   {
    "_defaultOrder": 49,
    "_isFastLaunch": false,
    "category": "Accelerated computing",
    "gpuNum": 1,
    "hideHardwareSpecs": false,
    "memoryGiB": 64,
    "name": "ml.g5.4xlarge",
    "vcpuNum": 16
   },
   {
    "_defaultOrder": 50,
    "_isFastLaunch": false,
    "category": "Accelerated computing",
    "gpuNum": 1,
    "hideHardwareSpecs": false,
    "memoryGiB": 128,
    "name": "ml.g5.8xlarge",
    "vcpuNum": 32
   },
   {
    "_defaultOrder": 51,
    "_isFastLaunch": false,
    "category": "Accelerated computing",
    "gpuNum": 1,
    "hideHardwareSpecs": false,
    "memoryGiB": 256,
    "name": "ml.g5.16xlarge",
    "vcpuNum": 64
   },
   {
    "_defaultOrder": 52,
    "_isFastLaunch": false,
    "category": "Accelerated computing",
    "gpuNum": 4,
    "hideHardwareSpecs": false,
    "memoryGiB": 192,
    "name": "ml.g5.12xlarge",
    "vcpuNum": 48
   },
   {
    "_defaultOrder": 53,
    "_isFastLaunch": false,
    "category": "Accelerated computing",
    "gpuNum": 4,
    "hideHardwareSpecs": false,
    "memoryGiB": 384,
    "name": "ml.g5.24xlarge",
    "vcpuNum": 96
   },
   {
    "_defaultOrder": 54,
    "_isFastLaunch": false,
    "category": "Accelerated computing",
    "gpuNum": 8,
    "hideHardwareSpecs": false,
    "memoryGiB": 768,
    "name": "ml.g5.48xlarge",
    "vcpuNum": 192
   },
   {
    "_defaultOrder": 55,
    "_isFastLaunch": false,
    "category": "Accelerated computing",
    "gpuNum": 8,
    "hideHardwareSpecs": false,
    "memoryGiB": 1152,
    "name": "ml.p4d.24xlarge",
    "vcpuNum": 96
   },
   {
    "_defaultOrder": 56,
    "_isFastLaunch": false,
    "category": "Accelerated computing",
    "gpuNum": 8,
    "hideHardwareSpecs": false,
    "memoryGiB": 1152,
    "name": "ml.p4de.24xlarge",
    "vcpuNum": 96
   },
   {
    "_defaultOrder": 57,
    "_isFastLaunch": false,
    "category": "Accelerated computing",
    "gpuNum": 0,
    "hideHardwareSpecs": false,
    "memoryGiB": 32,
    "name": "ml.trn1.2xlarge",
    "vcpuNum": 8
   },
   {
    "_defaultOrder": 58,
    "_isFastLaunch": false,
    "category": "Accelerated computing",
    "gpuNum": 0,
    "hideHardwareSpecs": false,
    "memoryGiB": 512,
    "name": "ml.trn1.32xlarge",
    "vcpuNum": 128
   },
   {
    "_defaultOrder": 59,
    "_isFastLaunch": false,
    "category": "Accelerated computing",
    "gpuNum": 0,
    "hideHardwareSpecs": false,
    "memoryGiB": 512,
    "name": "ml.trn1n.32xlarge",
    "vcpuNum": 128
   }
  ],
  "instance_type": "ml.g5.xlarge",
  "kernelspec": {
   "display_name": "Python 3 (ipykernel)",
   "language": "python",
   "name": "python3"
  },
  "language_info": {
   "codemirror_mode": {
    "name": "ipython",
    "version": 3
   },
   "file_extension": ".py",
   "mimetype": "text/x-python",
   "name": "python",
   "nbconvert_exporter": "python",
   "pygments_lexer": "ipython3",
   "version": "3.11.11"
  }
 },
 "nbformat": 4,
 "nbformat_minor": 5
}
